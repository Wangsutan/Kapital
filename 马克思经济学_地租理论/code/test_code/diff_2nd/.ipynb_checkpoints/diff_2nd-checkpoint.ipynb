{
 "cells": [
  {
   "cell_type": "code",
   "execution_count": 15,
   "id": "c3180568",
   "metadata": {},
   "outputs": [],
   "source": [
    "import operator\n",
    "import sys"
   ]
  },
  {
   "cell_type": "code",
   "execution_count": 16,
   "id": "74f432c3",
   "metadata": {},
   "outputs": [],
   "source": [
    "class SOIL:\n",
    "    def __init__(self, areaSum, investmentSum, productNumSum):\n",
    "        self.areaSum = areaSum\n",
    "        self.investmentSum = investmentSum\n",
    "        self.productNumSum = productNumSum\n",
    "        self.investmentPerArea = investmentSum / areaSum\n",
    "        self.productNumPerArea = productNumSum / areaSum\n",
    "        self.productNumPerInvestmentPerArea = productNumSum / investmentSum / areaSum\n"
   ]
  },
  {
   "cell_type": "code",
   "execution_count": 17,
   "id": "94a9e63a",
   "metadata": {},
   "outputs": [],
   "source": [
    "def getMinSoil(soilListDesc, productDemand):\n",
    "    productSupply = 0\n",
    "    for ptr_desc in range(len(soilListDesc)):\n",
    "        productSupply += soilListDesc[ptr_desc].productNumSum\n",
    "        print(\"productSupply:\", productSupply)\n",
    "        if productSupply >= productDemand:\n",
    "            return ptr_desc\n",
    "        elif (ptr_desc == len(soilListDesc) - 1) and (productSupply < productDemand):\n",
    "            need_enhance = productDemand - productSupply\n",
    "            sys.exit(f\"Need enhance production: {need_enhance}\")"
   ]
  },
  {
   "cell_type": "code",
   "execution_count": 18,
   "id": "12d57ae1",
   "metadata": {},
   "outputs": [],
   "source": [
    "def getProductPrice(soilInvestment, soilProductNum, profitRate):\n",
    "    productPrice = soilInvestment * (1 + profitRate) / soilProductNum\n",
    "    return productPrice"
   ]
  },
  {
   "cell_type": "code",
   "execution_count": 19,
   "id": "24ce088f",
   "metadata": {},
   "outputs": [],
   "source": [
    "def transformSuperProfit2Rent(superProfit, transformRate):\n",
    "    return superProfit * transformRate"
   ]
  },
  {
   "cell_type": "code",
   "execution_count": 20,
   "id": "676f60b8",
   "metadata": {},
   "outputs": [],
   "source": [
    "soilList = []\n",
    "\n",
    "soil_A = SOIL(10.0, 600.0, 10.0)\n",
    "soil_B = SOIL(8.0, 480.0, 16.0)\n",
    "soil_C = SOIL(5.0, 300.0, 15.0)\n",
    "soil_D = SOIL(2.0, 120.0, 8.0)\n",
    "\n",
    "soilList.append(soil_A)\n",
    "soilList.append(soil_B)\n",
    "soilList.append(soil_C)\n",
    "soilList.append(soil_D)\n",
    "\n",
    "condition_sort = operator.attrgetter(\"productNumPerInvestmentPerArea\")\n",
    "soilList.sort(key=condition_sort)\n"
   ]
  },
  {
   "cell_type": "code",
   "execution_count": 21,
   "id": "60d8cfbd",
   "metadata": {},
   "outputs": [
    {
     "name": "stdout",
     "output_type": "stream",
     "text": [
      "productSupply: 8.0\n",
      "productSupply: 23.0\n",
      "productSupply: 39.0\n",
      "productSupply: 49.0\n",
      "real index: 0\n"
     ]
    }
   ],
   "source": [
    "productDemand = 45\n",
    "soilListRev = soilList[::-1]\n",
    "ptr_tmp = getMinSoil(soilListRev, productDemand)\n",
    "soilMin_ptr = len(soilList) - 1 - ptr_tmp\n",
    "print(\"real index:\", soilMin_ptr)"
   ]
  },
  {
   "cell_type": "code",
   "execution_count": 22,
   "id": "c38d34a7",
   "metadata": {},
   "outputs": [
    {
     "name": "stdout",
     "output_type": "stream",
     "text": [
      "72.0\n"
     ]
    }
   ],
   "source": [
    "test_productPriceSocial = getProductPrice(\n",
    "    soilList[soilMin_ptr].investmentPerArea,\n",
    "    soilList[soilMin_ptr].productNumPerArea,\n",
    "    0.2000\n",
    ")\n",
    "\n",
    "print(test_productPriceSocial)\n"
   ]
  },
  {
   "cell_type": "markdown",
   "id": "5ed7e618",
   "metadata": {},
   "source": [
    "**注意：** 最坏土地的总土地面积不一定用完。因为在其用完之前，可能产品的供应已经满足需求。迭代从`soilMin_ptr + 1`开始，就是因为这个原因。"
   ]
  },
  {
   "cell_type": "code",
   "execution_count": 23,
   "id": "b92beda8",
   "metadata": {},
   "outputs": [
    {
     "name": "stdout",
     "output_type": "stream",
     "text": [
      "21.0\n"
     ]
    }
   ],
   "source": [
    "supplyBeforeMinSoil = 0\n",
    "areaBeforeMinSoil = 0\n",
    "\n",
    "for i in range(soilMin_ptr + 1, len(soilList)):\n",
    "    supplyBeforeMinSoil += soilList[i].productNumSum\n",
    "    areaBeforeMinSoil += soilList[i].areaSum\n",
    "\n",
    "supplyMinSoil = productDemand - supplyBeforeMinSoil\n",
    "minSoilArea = supplyMinSoil / soilList[soilMin_ptr].productNumPerArea\n",
    "areaTotal = areaBeforeMinSoil + minSoilArea\n",
    "print(areaTotal)"
   ]
  },
  {
   "cell_type": "code",
   "execution_count": 31,
   "id": "e81da58c",
   "metadata": {},
   "outputs": [
    {
     "name": "stdout",
     "output_type": "stream",
     "text": [
      "1728.0\n"
     ]
    }
   ],
   "source": [
    "superProfitTotal = 0\n",
    "for i in range(soilMin_ptr, len(soilList)):\n",
    "    superProfitTotal += test_productPriceSocial * (soilList[i].productNumPerArea - soilList[soilMin_ptr].productNumPerArea) * soilList[i].areaSum\n",
    "print(superProfitTotal)"
   ]
  },
  {
   "cell_type": "markdown",
   "id": "f01a69a0",
   "metadata": {},
   "source": [
    "最坏土地不提供地租，因此可以从其下一等级土地开始累加地租。但是，该最坏土地即便放在相应语句中，由于其结果为〇，也不会影响最终的数值。"
   ]
  },
  {
   "cell_type": "code",
   "execution_count": 28,
   "id": "95ef8977",
   "metadata": {},
   "outputs": [
    {
     "name": "stdout",
     "output_type": "stream",
     "text": [
      "1728.0\n"
     ]
    }
   ],
   "source": [
    "rentTotal = 0\n",
    "for i in range(soilMin_ptr, len(soilList)):\n",
    "    superProfitIndividual = test_productPriceSocial * (soilList[i].productNumPerArea - soilList[soilMin_ptr].productNumPerArea) * soilList[i].areaSum\n",
    "    rentTotal += transformSuperProfit2Rent(superProfitIndividual, 1.0000)\n",
    "print(rentTotal)"
   ]
  },
  {
   "cell_type": "code",
   "execution_count": 26,
   "id": "3d8f99a6",
   "metadata": {},
   "outputs": [
    {
     "name": "stdout",
     "output_type": "stream",
     "text": [
      "82.28571428571429\n"
     ]
    }
   ],
   "source": [
    "rentPerAreaAvg = rentTotal / areaTotal\n",
    "print(rentPerAreaAvg)"
   ]
  },
  {
   "cell_type": "markdown",
   "id": "8a66659f",
   "metadata": {},
   "source": [
    "最坏土地的投资额的一个参数，即实际使用的土地面积，是需要额外运算的，因为它不一定等于其全部面积。"
   ]
  },
  {
   "cell_type": "code",
   "execution_count": null,
   "id": "6fecf57d",
   "metadata": {},
   "outputs": [],
   "source": [
    "investmentTotal = 0\n",
    "for i in range(soilMin_ptr + 1, len(soilList)):\n",
    "    investmentTotal += soilList[i].investmentSum\n",
    "investmentTotal += soilList[soilMin_ptr].investmentPerArea * minSoilArea\n",
    "print(investmentTotal)"
   ]
  },
  {
   "cell_type": "code",
   "execution_count": null,
   "id": "fe41715b",
   "metadata": {},
   "outputs": [],
   "source": [
    "rentPerCapitalAvg = rentTotal / investmentTotal\n",
    "print(rentPerCapitalAvg)"
   ]
  },
  {
   "cell_type": "code",
   "execution_count": null,
   "id": "603ab02e",
   "metadata": {},
   "outputs": [],
   "source": []
  }
 ],
 "metadata": {
  "kernelspec": {
   "display_name": "Python 3 (ipykernel)",
   "language": "python",
   "name": "python3"
  },
  "language_info": {
   "codemirror_mode": {
    "name": "ipython",
    "version": 3
   },
   "file_extension": ".py",
   "mimetype": "text/x-python",
   "name": "python",
   "nbconvert_exporter": "python",
   "pygments_lexer": "ipython3",
   "version": "3.11.3"
  }
 },
 "nbformat": 4,
 "nbformat_minor": 5
}
